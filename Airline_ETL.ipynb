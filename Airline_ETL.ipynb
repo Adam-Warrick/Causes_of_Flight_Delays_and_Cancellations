{
 "cells": [
  {
   "attachments": {},
   "cell_type": "markdown",
   "metadata": {},
   "source": [
    "### Import dependencies"
   ]
  },
  {
   "cell_type": "code",
   "execution_count": 1,
   "metadata": {},
   "outputs": [],
   "source": [
    "import pandas as pd\n",
    "from path import Path"
   ]
  },
  {
   "attachments": {},
   "cell_type": "markdown",
   "metadata": {},
   "source": [
    "### Import Airline data"
   ]
  },
  {
   "cell_type": "code",
   "execution_count": 2,
   "metadata": {},
   "outputs": [],
   "source": [
    "raw_2022_flights = pd.DataFrame()\n",
    "\n",
    "# loop through csv files \n",
    "for x in range(1,8):\n",
    "    file = Path(f'Resources/Flights_2022_{x}.csv')\n",
    "    import_df = pd.read_csv(file,low_memory=False)\n",
    "    raw_2022_flights = pd.concat([raw_2022_flights,import_df],ignore_index=True)"
   ]
  },
  {
   "attachments": {},
   "cell_type": "markdown",
   "metadata": {},
   "source": [
    "#### Export combined data into new csv"
   ]
  },
  {
   "cell_type": "code",
   "execution_count": 3,
   "metadata": {},
   "outputs": [],
   "source": [
    "export_path = Path('Resources/Flights_2022_Master.csv')\n",
    "raw_2022_flights.to_csv(export_path,index=False)"
   ]
  },
  {
   "attachments": {},
   "cell_type": "markdown",
   "metadata": {},
   "source": [
    "#### Re-Import master csv"
   ]
  },
  {
   "cell_type": "code",
   "execution_count": 4,
   "metadata": {},
   "outputs": [],
   "source": [
    "messy_import_path = Path('Resources/Flights_2022_Master.csv')\n",
    "messy_flight_df = pd.read_csv(messy_import_path,low_memory=False)"
   ]
  }
 ],
 "metadata": {
  "kernelspec": {
   "display_name": "mlenv",
   "language": "python",
   "name": "python3"
  },
  "language_info": {
   "codemirror_mode": {
    "name": "ipython",
    "version": 3
   },
   "file_extension": ".py",
   "mimetype": "text/x-python",
   "name": "python",
   "nbconvert_exporter": "python",
   "pygments_lexer": "ipython3",
   "version": "3.7.13"
  },
  "orig_nbformat": 4,
  "vscode": {
   "interpreter": {
    "hash": "8ccc1aa3ed519f7e799688496942c772fd7831c36144e9e99ceed2ce5e1092cf"
   }
  }
 },
 "nbformat": 4,
 "nbformat_minor": 2
}
