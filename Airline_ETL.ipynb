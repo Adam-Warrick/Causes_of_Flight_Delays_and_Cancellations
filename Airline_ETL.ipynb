{
 "cells": [
  {
   "cell_type": "markdown",
   "metadata": {},
   "source": [
    "### Import dependencies"
   ]
  },
  {
   "cell_type": "code",
   "execution_count": 13,
   "metadata": {},
   "outputs": [],
   "source": [
    "import pandas as pd\n",
    "from pathlib import Path"
   ]
  },
  {
   "cell_type": "markdown",
   "metadata": {},
   "source": [
    "### Import Airline data"
   ]
  },
  {
   "cell_type": "code",
   "execution_count": 14,
   "metadata": {},
   "outputs": [],
   "source": [
    "messy_flight_df = pd.DataFrame()\n",
    "\n",
    "# loop through csv files \n",
    "for x in range(1,8):\n",
    "    file = Path(f'Resources/Flights_2022_{x}.csv')\n",
    "    import_df = pd.read_csv(file,low_memory=False,engine='c')\n",
    "    messy_flight_df = pd.concat([messy_flight_df,import_df],ignore_index=True)"
   ]
  },
  {
   "cell_type": "markdown",
   "metadata": {},
   "source": [
    "#### Export combined data into new csv"
   ]
  },
  {
   "cell_type": "code",
   "execution_count": 15,
   "metadata": {},
   "outputs": [],
   "source": [
    "# USE IF NECESSARY\n",
    "\n",
    "# export_path = Path('Resources/Flights_2022_Master.csv')\n",
    "# messy_flight_df.to_csv(export_path,index=False)"
   ]
  },
  {
   "cell_type": "markdown",
   "metadata": {},
   "source": [
    "#### Re-Import master csv"
   ]
  },
  {
   "cell_type": "code",
   "execution_count": 16,
   "metadata": {},
   "outputs": [],
   "source": [
    "# USE IF NECESSARY\n",
    "\n",
    "# messy_import_path = Path('Resources/Flights_2022_Master.csv')\n",
    "# messy_flight_df = pd.read_csv(messy_import_path,low_memory=False)"
   ]
  },
  {
   "cell_type": "markdown",
   "metadata": {},
   "source": [
    "### Separate master dataframe into each table"
   ]
  },
  {
   "cell_type": "markdown",
   "metadata": {},
   "source": [
    "#### Airlines DF"
   ]
  },
  {
   "cell_type": "code",
   "execution_count": null,
   "metadata": {},
   "outputs": [],
   "source": [
    "airlines_df_path = Path('Resources/Airlines.csv')\n",
    "Airlines_df = pd.read_csv(airlines_df_path)"
   ]
  },
  {
   "cell_type": "markdown",
   "metadata": {},
   "source": [
    "#### Flights DF"
   ]
  },
  {
   "cell_type": "code",
   "execution_count": null,
   "metadata": {},
   "outputs": [],
   "source": [
    "flights_columns_list = [\n",
    "    'Flight_Number_Operating_Airline',\n",
    "    'Operating_Airline ',\n",
    "    'Origin',\n",
    "    'Dest',\n",
    "    'FlightDate',\n",
    "    'DepTime', # change from military to datetime\n",
    "    'ArrTime', # change from military to datetime \n",
    "    'ArrDel15',\n",
    "    'Cancelled'\n",
    "    ]"
   ]
  },
  {
   "cell_type": "code",
   "execution_count": null,
   "metadata": {},
   "outputs": [],
   "source": [
    "flight_df_path = Path('Resources/Flights_Table.csv')\n",
    "Flights_df = messy_flight_df[flights_columns_list]\n",
    "Flights_df.to_csv(flight_df_path)"
   ]
  },
  {
   "cell_type": "markdown",
   "metadata": {},
   "source": [
    "#### Delayed Flights DF"
   ]
  },
  {
   "cell_type": "code",
   "execution_count": 35,
   "metadata": {},
   "outputs": [],
   "source": [
    "delayed_columns_list = [\n",
    "    'Flight_Number_Operating_Airline',\n",
    "    'ArrTime',\n",
    "    'ArrDelayMinutes',\n",
    "    'DepTime', # change from military to datetime\n",
    "    'DepDelayMinutes',\n",
    "    'CarrierDelay',\n",
    "    'WeatherDelay',\n",
    "    'NASDelay',\n",
    "    'SecurityDelay',\n",
    "    'LateAircraftDelay'\n",
    "]"
   ]
  },
  {
   "cell_type": "code",
   "execution_count": 36,
   "metadata": {},
   "outputs": [],
   "source": [
    "delayed_df_path = Path('Resources/Delayed_Flights_Table.csv')\n",
    "Delayed_Flights_df = messy_flight_df[delayed_columns_list]\n",
    "Delayed_Flights_df.to_csv(delayed_df_path)"
   ]
  },
  {
   "cell_type": "markdown",
   "metadata": {},
   "source": [
    "#### Airport Codes DF"
   ]
  },
  {
   "cell_type": "code",
   "execution_count": null,
   "metadata": {},
   "outputs": [],
   "source": [
    "airport_codes_list = [\n",
    "    'Origin',\n",
    "    'OriginCityName',\n",
    "    'OriginState'\n",
    "]"
   ]
  },
  {
   "cell_type": "code",
   "execution_count": null,
   "metadata": {},
   "outputs": [],
   "source": [
    "airport_codes_df_path = Path('Resources/Airport_Codes_Table.csv')\n",
    "Airport_Codes_df = messy_flight_df[airport_codes_list]\n",
    "Airport_Codes_df.to_csv(airport_codes_df_path)"
   ]
  },
  {
   "cell_type": "markdown",
   "metadata": {},
   "source": [
    "#### Cancelled Flights DF"
   ]
  },
  {
   "cell_type": "code",
   "execution_count": null,
   "metadata": {},
   "outputs": [],
   "source": [
    "cancelled_flights_list = [\n",
    "    'Flight_Number_Operating_Airline',\n",
    "    'CancellationCode'\n",
    "]"
   ]
  },
  {
   "cell_type": "code",
   "execution_count": null,
   "metadata": {},
   "outputs": [],
   "source": [
    "cancelled_df_path = Path('Resources/Cancelled_Flights_Table.csv')\n",
    "Cancelled_Flights_df = messy_flight_df.loc[messy_flight_df['Cancelled']==1][cancelled_flights_list]\n",
    "Cancelled_Flights_df.to_csv(cancelled_df_path)"
   ]
  },
  {
   "cell_type": "markdown",
   "metadata": {},
   "source": [
    "### Format Data"
   ]
  },
  {
   "cell_type": "code",
   "execution_count": null,
   "metadata": {},
   "outputs": [],
   "source": [
    "\n",
    "def converter (series):\n",
    "    # converts the string into a military time format\n",
    "    series = series.apply(lambda x: '{:02d}:{:02d}'.format(int(x) // 100, int(x) % 100) if pd.notnull(x) else x)\n",
    "    # Convert string to correct midnight format\n",
    "    series=series.apply(lambda x: '00:00' if x == '24:00' else x)\n",
    "    # Converts values into datetime object\n",
    "    series =series.apply(lambda x: pd.to_datetime(x,format='%H:%M').strftime('%H:%M') if pd.notnull(x) else x)\n",
    "    return series"
   ]
  },
  {
   "cell_type": "markdown",
   "metadata": {},
   "source": [
    "#### Flight Table Cleaning"
   ]
  },
  {
   "cell_type": "code",
   "execution_count": null,
   "metadata": {},
   "outputs": [],
   "source": [
    "# Import Table Data\n",
    "flight_cleanup_df = pd.read_csv(flight_df_path,index_col=0)\n"
   ]
  },
  {
   "cell_type": "code",
   "execution_count": null,
   "metadata": {},
   "outputs": [],
   "source": [
    "\n",
    "# converts the string into a military time format\n",
    "flight_cleanup_df['ArrTime'] =converter(flight_cleanup_df['ArrTime'])\n",
    "\n",
    "flight_cleanup_df['DepTime'] =converter(flight_cleanup_df['DepTime'])"
   ]
  },
  {
   "cell_type": "code",
   "execution_count": null,
   "metadata": {},
   "outputs": [],
   "source": [
    "# Convert FlightDate to datetime object\n",
    "flight_cleanup_df['FlightDate'] =flight_cleanup_df['FlightDate'].apply(lambda x: pd.to_datetime(x) if pd.notnull(x) else x)"
   ]
  },
  {
   "cell_type": "code",
   "execution_count": null,
   "metadata": {},
   "outputs": [],
   "source": [
    "# Rename Columns\n",
    "flight_cleanup_df.rename(columns={\n",
    "    'Flight_Number_Operating_Airline':'Airline_Flight_Number',\n",
    "    'Operating_Airline ':'Operating_Airline',\n",
    "    'Origin':'Origin_Airport',\n",
    "    'Dest':'Destination_Airport',\n",
    "    'FlightDate':'Flight_Date',\n",
    "    'DepTime':'Departure_Time',\n",
    "    'ArrTime':'Arrival_Time',\n",
    "    'ArrDel15':'Arrival_Delayed',\n",
    "    'Cancelled':'Cancelled'},inplace=True)"
   ]
  },
  {
   "cell_type": "code",
   "execution_count": null,
   "metadata": {},
   "outputs": [],
   "source": [
    "flight_cleanup_df"
   ]
  },
  {
   "cell_type": "code",
   "execution_count": null,
   "metadata": {},
   "outputs": [],
   "source": [
    "pandas.to_timedelta(arg, unit=None, errors='raise')"
   ]
  },
  {
   "cell_type": "code",
   "execution_count": null,
   "metadata": {},
   "outputs": [],
   "source": [
    "# Export cleaned Dataframe to csv to use as Table\n",
    "\n",
    "cleaned_flight_path = Path('Resources/DB_Flights_Table.csv')\n",
    "flight_cleanup_df.to_csv(cleaned_flight_path)"
   ]
  },
  {
   "cell_type": "markdown",
   "metadata": {},
   "source": [
    "#### Delayed Flight Table Cleaning"
   ]
  },
  {
   "cell_type": "code",
   "execution_count": 41,
   "metadata": {},
   "outputs": [],
   "source": [
    "# Import Table Data\n",
    "delay_cleanup_df = pd.read_csv(delayed_df_path,index_col=0)\n"
   ]
  },
  {
   "cell_type": "code",
   "execution_count": 42,
   "metadata": {},
   "outputs": [],
   "source": [
    "# Select only flights that have been delayed\n",
    "delay_cleanup_df = delay_cleanup_df.loc[(delay_cleanup_df['DepDelayMinutes']>0) | (delay_cleanup_df['ArrDelayMinutes']>0)]"
   ]
  },
  {
   "cell_type": "code",
   "execution_count": null,
   "metadata": {},
   "outputs": [],
   "source": [
    "delay_cleanup_df['ArrTime'] = converter(delay_cleanup_df['ArrTime'])\n",
    "delay_cleanup_df['DepTime'] = converter(delay_cleanup_df['DepTime'])\n"
   ]
  },
  {
   "cell_type": "code",
   "execution_count": null,
   "metadata": {},
   "outputs": [],
   "source": [
    "# Rename Columns\n",
    "delay_cleanup_df.rename(columns={\n",
    "    'Flight_Number_Operating_Airline':'Airline_Flight_Number',\n",
    "    'ArrTime':'Arrival_Time',\n",
    "    'ArrDelayMinutes':'Arrival_Delayed_Minutes',\n",
    "    'DepTime':'Departure_Time',\n",
    "    'DepDelayMinutes':'Departure_Delayed_Minutes',\n",
    "    'CarrierDelay':'Carrier_Delay_Minutes',\n",
    "    'WeatherDelay':'Weather_Delay_Minutes',\n",
    "    'NASDelay':'NAS_Delay_Minutes',\n",
    "    'SecurityDelay':'Security_Delay_Minutes',\n",
    "    'LateAircraftDelay':'Late_Aircraft_Delay_Minutes'},\n",
    "    inplace=True)"
   ]
  },
  {
   "cell_type": "code",
   "execution_count": null,
   "metadata": {},
   "outputs": [],
   "source": [
    "delay_cleanup_df"
   ]
  },
  {
   "cell_type": "code",
   "execution_count": null,
   "metadata": {},
   "outputs": [],
   "source": [
    "delay_cleanup_df.columns"
   ]
  },
  {
   "cell_type": "code",
   "execution_count": null,
   "metadata": {},
   "outputs": [],
   "source": [
    "#Convert Columns from int to Datetime \n",
    "\n",
    "delay_cleanup_df['Carrier_Delay_Minutes'] = pd.to_timedelta(delay_cleanup_df['Carrier_Delay_Minutes'],unit='m')\n",
    "\n",
    "delay_cleanup_df['Weather_Delay_Minutes'] = pd.to_timedelta(delay_cleanup_df['Weather_Delay_Minutes'],unit='m')\n",
    "\n",
    "delay_cleanup_df['Departure_Delayed_Minutes'] = pd.to_timedelta(delay_cleanup_df['Departure_Delayed_Minutes'],unit='m')\n",
    "\n",
    "delay_cleanup_df['Arrival_Delayed_Minutes'] = pd.to_timedelta(delay_cleanup_df['Arrival_Delayed_Minutes'],unit='m')\n",
    "\n",
    "delay_cleanup_df['NAS_Delay_Minutes'] = pd.to_timedelta(delay_cleanup_df['NAS_Delay_Minutes'],unit='m')\n",
    "\n",
    "delay_cleanup_df['Security_Delay_Minutes'] = pd.to_timedelta(delay_cleanup_df['Security_Delay_Minutes'],unit='m')\n",
    "\n",
    "delay_cleanup_df['Late_Aircraft_Delay_Minutes'] = pd.to_timedelta(delay_cleanup_df['Late_Aircraft_Delay_Minutes'],unit='m')\n",
    "\n",
    "delay_cleanup_df"
   ]
  },
  {
   "cell_type": "code",
   "execution_count": null,
   "metadata": {},
   "outputs": [],
   "source": [
    "# Export cleaned Dataframe to csv to use as Table\n",
    "\n",
    "cleaned_delay_path = Path('Resources/DB_Delayed_Flights_Table.csv')\n",
    "delay_cleanup_df.to_csv(cleaned_delay_path)"
   ]
  },
  {
   "cell_type": "markdown",
   "metadata": {},
   "source": [
    "#### Airport Codes Table Cleaning"
   ]
  },
  {
   "cell_type": "code",
   "execution_count": 368,
   "metadata": {},
   "outputs": [],
   "source": [
    "# Import Table Data\n",
    "airport_codes_cleanup_df = pd.read_csv(airport_codes_df_path,index_col=0)\n"
   ]
  },
  {
   "cell_type": "code",
   "execution_count": 370,
   "metadata": {},
   "outputs": [],
   "source": [
    "# get only the Unique Origin Airport Codes\n",
    "airport_codes_cleanup_df.drop_duplicates(subset=['Origin'],inplace=True)"
   ]
  },
  {
   "cell_type": "code",
   "execution_count": 371,
   "metadata": {},
   "outputs": [],
   "source": [
    "# Split to create columns for Table\n",
    "airport_codes_cleanup_df[['Airport_City','Airport_State']] = airport_codes_cleanup_df['OriginCityName'].str.split(', ',expand=True)"
   ]
  },
  {
   "cell_type": "code",
   "execution_count": 373,
   "metadata": {},
   "outputs": [],
   "source": [
    "# Remove unnecesary Columns\n",
    "airport_codes_cleanup_df.drop(columns=['OriginState','OriginCityName'],inplace=True)"
   ]
  },
  {
   "cell_type": "code",
   "execution_count": 377,
   "metadata": {},
   "outputs": [],
   "source": [
    "# Clean the index\n",
    "airport_codes_cleanup_df.reset_index(drop=True,inplace=True)"
   ]
  },
  {
   "cell_type": "code",
   "execution_count": 379,
   "metadata": {},
   "outputs": [],
   "source": [
    "# Rename Columns\n",
    "airport_codes_cleanup_df.rename(columns={'Origin':'Airport_Code'},inplace=True)"
   ]
  },
  {
   "cell_type": "code",
   "execution_count": 380,
   "metadata": {},
   "outputs": [
    {
     "data": {
      "text/html": [
       "<div>\n",
       "<style scoped>\n",
       "    .dataframe tbody tr th:only-of-type {\n",
       "        vertical-align: middle;\n",
       "    }\n",
       "\n",
       "    .dataframe tbody tr th {\n",
       "        vertical-align: top;\n",
       "    }\n",
       "\n",
       "    .dataframe thead th {\n",
       "        text-align: right;\n",
       "    }\n",
       "</style>\n",
       "<table border=\"1\" class=\"dataframe\">\n",
       "  <thead>\n",
       "    <tr style=\"text-align: right;\">\n",
       "      <th></th>\n",
       "      <th>Airport_Code</th>\n",
       "      <th>Airport_City</th>\n",
       "      <th>Airport_State</th>\n",
       "    </tr>\n",
       "  </thead>\n",
       "  <tbody>\n",
       "    <tr>\n",
       "      <th>0</th>\n",
       "      <td>FLL</td>\n",
       "      <td>Fort Lauderdale</td>\n",
       "      <td>FL</td>\n",
       "    </tr>\n",
       "    <tr>\n",
       "      <th>1</th>\n",
       "      <td>ATL</td>\n",
       "      <td>Atlanta</td>\n",
       "      <td>GA</td>\n",
       "    </tr>\n",
       "    <tr>\n",
       "      <th>2</th>\n",
       "      <td>JAN</td>\n",
       "      <td>Jackson/Vicksburg</td>\n",
       "      <td>MS</td>\n",
       "    </tr>\n",
       "    <tr>\n",
       "      <th>3</th>\n",
       "      <td>RIC</td>\n",
       "      <td>Richmond</td>\n",
       "      <td>VA</td>\n",
       "    </tr>\n",
       "    <tr>\n",
       "      <th>4</th>\n",
       "      <td>MSP</td>\n",
       "      <td>Minneapolis</td>\n",
       "      <td>MN</td>\n",
       "    </tr>\n",
       "    <tr>\n",
       "      <th>...</th>\n",
       "      <td>...</td>\n",
       "      <td>...</td>\n",
       "      <td>...</td>\n",
       "    </tr>\n",
       "    <tr>\n",
       "      <th>370</th>\n",
       "      <td>ACK</td>\n",
       "      <td>Nantucket</td>\n",
       "      <td>MA</td>\n",
       "    </tr>\n",
       "    <tr>\n",
       "      <th>371</th>\n",
       "      <td>GST</td>\n",
       "      <td>Gustavus</td>\n",
       "      <td>AK</td>\n",
       "    </tr>\n",
       "    <tr>\n",
       "      <th>372</th>\n",
       "      <td>HYA</td>\n",
       "      <td>Hyannis</td>\n",
       "      <td>MA</td>\n",
       "    </tr>\n",
       "    <tr>\n",
       "      <th>373</th>\n",
       "      <td>MVY</td>\n",
       "      <td>Martha's Vineyard</td>\n",
       "      <td>MA</td>\n",
       "    </tr>\n",
       "    <tr>\n",
       "      <th>374</th>\n",
       "      <td>BKG</td>\n",
       "      <td>Branson</td>\n",
       "      <td>MO</td>\n",
       "    </tr>\n",
       "  </tbody>\n",
       "</table>\n",
       "<p>375 rows × 3 columns</p>\n",
       "</div>"
      ],
      "text/plain": [
       "    Airport_Code       Airport_City Airport_State\n",
       "0            FLL    Fort Lauderdale            FL\n",
       "1            ATL            Atlanta            GA\n",
       "2            JAN  Jackson/Vicksburg            MS\n",
       "3            RIC           Richmond            VA\n",
       "4            MSP        Minneapolis            MN\n",
       "..           ...                ...           ...\n",
       "370          ACK          Nantucket            MA\n",
       "371          GST           Gustavus            AK\n",
       "372          HYA            Hyannis            MA\n",
       "373          MVY  Martha's Vineyard            MA\n",
       "374          BKG            Branson            MO\n",
       "\n",
       "[375 rows x 3 columns]"
      ]
     },
     "execution_count": 380,
     "metadata": {},
     "output_type": "execute_result"
    }
   ],
   "source": [
    "airport_codes_cleanup_df"
   ]
  },
  {
   "cell_type": "code",
   "execution_count": null,
   "metadata": {},
   "outputs": [],
   "source": [
    "# Export cleaned Dataframe to csv to use as Table\n",
    "\n",
    "cleaned_airport_codes_path = Path('Resources/DB_Airport_Codes.csv')\n",
    "airport_codes_cleanup_df.to_csv(cleaned_airport_codes_path)"
   ]
  },
  {
   "cell_type": "markdown",
   "metadata": {},
   "source": [
    "#### Airline Table Cleaning"
   ]
  },
  {
   "cell_type": "code",
   "execution_count": 415,
   "metadata": {},
   "outputs": [],
   "source": [
    "# Import Table Data\n",
    "airlines_cleanup_df = pd.read_csv(airlines_df_path)\n"
   ]
  },
  {
   "cell_type": "code",
   "execution_count": 417,
   "metadata": {},
   "outputs": [],
   "source": [
    "# Rename columns\n",
    "\n",
    "airlines_cleanup_df.rename(columns={\n",
    "    'Code':'Airline_Code',\n",
    "    'Description':'Airline_Name'},inplace=True)"
   ]
  },
  {
   "cell_type": "code",
   "execution_count": 418,
   "metadata": {},
   "outputs": [
    {
     "data": {
      "text/html": [
       "<div>\n",
       "<style scoped>\n",
       "    .dataframe tbody tr th:only-of-type {\n",
       "        vertical-align: middle;\n",
       "    }\n",
       "\n",
       "    .dataframe tbody tr th {\n",
       "        vertical-align: top;\n",
       "    }\n",
       "\n",
       "    .dataframe thead th {\n",
       "        text-align: right;\n",
       "    }\n",
       "</style>\n",
       "<table border=\"1\" class=\"dataframe\">\n",
       "  <thead>\n",
       "    <tr style=\"text-align: right;\">\n",
       "      <th></th>\n",
       "      <th>Airline_Code</th>\n",
       "      <th>Airline_Name</th>\n",
       "    </tr>\n",
       "  </thead>\n",
       "  <tbody>\n",
       "    <tr>\n",
       "      <th>0</th>\n",
       "      <td>02Q</td>\n",
       "      <td>Titan Airways</td>\n",
       "    </tr>\n",
       "    <tr>\n",
       "      <th>1</th>\n",
       "      <td>04Q</td>\n",
       "      <td>Tradewind Aviation</td>\n",
       "    </tr>\n",
       "    <tr>\n",
       "      <th>2</th>\n",
       "      <td>05Q</td>\n",
       "      <td>Comlux Aviation, AG</td>\n",
       "    </tr>\n",
       "    <tr>\n",
       "      <th>3</th>\n",
       "      <td>06Q</td>\n",
       "      <td>Master Top Linhas Aereas Ltd.</td>\n",
       "    </tr>\n",
       "    <tr>\n",
       "      <th>4</th>\n",
       "      <td>07Q</td>\n",
       "      <td>Flair Airlines Ltd.</td>\n",
       "    </tr>\n",
       "    <tr>\n",
       "      <th>...</th>\n",
       "      <td>...</td>\n",
       "      <td>...</td>\n",
       "    </tr>\n",
       "    <tr>\n",
       "      <th>1566</th>\n",
       "      <td>ZW</td>\n",
       "      <td>Air Wisconsin Airlines Corp</td>\n",
       "    </tr>\n",
       "    <tr>\n",
       "      <th>1567</th>\n",
       "      <td>ZX</td>\n",
       "      <td>Air Georgian</td>\n",
       "    </tr>\n",
       "    <tr>\n",
       "      <th>1568</th>\n",
       "      <td>ZX (1)</td>\n",
       "      <td>Airbc Ltd.</td>\n",
       "    </tr>\n",
       "    <tr>\n",
       "      <th>1569</th>\n",
       "      <td>ZY</td>\n",
       "      <td>Atlantic Gulf Airlines</td>\n",
       "    </tr>\n",
       "    <tr>\n",
       "      <th>1570</th>\n",
       "      <td>ZYZ</td>\n",
       "      <td>Skyway Aviation Inc.</td>\n",
       "    </tr>\n",
       "  </tbody>\n",
       "</table>\n",
       "<p>1571 rows × 2 columns</p>\n",
       "</div>"
      ],
      "text/plain": [
       "     Airline_Code                   Airline_Name\n",
       "0             02Q                  Titan Airways\n",
       "1             04Q             Tradewind Aviation\n",
       "2             05Q            Comlux Aviation, AG\n",
       "3             06Q  Master Top Linhas Aereas Ltd.\n",
       "4             07Q            Flair Airlines Ltd.\n",
       "...           ...                            ...\n",
       "1566           ZW    Air Wisconsin Airlines Corp\n",
       "1567           ZX                   Air Georgian\n",
       "1568       ZX (1)                     Airbc Ltd.\n",
       "1569           ZY         Atlantic Gulf Airlines\n",
       "1570          ZYZ           Skyway Aviation Inc.\n",
       "\n",
       "[1571 rows x 2 columns]"
      ]
     },
     "execution_count": 418,
     "metadata": {},
     "output_type": "execute_result"
    }
   ],
   "source": [
    "airlines_cleanup_df"
   ]
  },
  {
   "cell_type": "code",
   "execution_count": null,
   "metadata": {},
   "outputs": [],
   "source": [
    "# Export cleaned Dataframe to csv to use as Table\n",
    "\n",
    "cleaned_airlines_path = Path('Resources/DB_Airline_Table.csv')\n",
    "airlines_cleanup_df.to_csv(cleaned_airlines_path)"
   ]
  },
  {
   "cell_type": "markdown",
   "metadata": {},
   "source": [
    "#### Cancelled Flights Table Cleaning"
   ]
  },
  {
   "cell_type": "code",
   "execution_count": 326,
   "metadata": {},
   "outputs": [],
   "source": [
    "# Import Table Data\n",
    "cancelled_cleanup_df = pd.read_csv(cancelled_df_path,index_col=0)"
   ]
  },
  {
   "cell_type": "code",
   "execution_count": 388,
   "metadata": {},
   "outputs": [],
   "source": [
    "cancelled_cleanup_df.rename(columns={'Flight_Number_Operating_Airline':'Airline_Flight_Number','CancellationCode':'Cancellation_Code'},inplace=True)"
   ]
  },
  {
   "cell_type": "code",
   "execution_count": 389,
   "metadata": {},
   "outputs": [
    {
     "data": {
      "text/html": [
       "<div>\n",
       "<style scoped>\n",
       "    .dataframe tbody tr th:only-of-type {\n",
       "        vertical-align: middle;\n",
       "    }\n",
       "\n",
       "    .dataframe tbody tr th {\n",
       "        vertical-align: top;\n",
       "    }\n",
       "\n",
       "    .dataframe thead th {\n",
       "        text-align: right;\n",
       "    }\n",
       "</style>\n",
       "<table border=\"1\" class=\"dataframe\">\n",
       "  <thead>\n",
       "    <tr style=\"text-align: right;\">\n",
       "      <th></th>\n",
       "      <th>Airline_Flight_Number</th>\n",
       "      <th>Cancellation_Code</th>\n",
       "    </tr>\n",
       "  </thead>\n",
       "  <tbody>\n",
       "    <tr>\n",
       "      <th>0</th>\n",
       "      <td>1581</td>\n",
       "      <td>A</td>\n",
       "    </tr>\n",
       "    <tr>\n",
       "      <th>30</th>\n",
       "      <td>1605</td>\n",
       "      <td>B</td>\n",
       "    </tr>\n",
       "    <tr>\n",
       "      <th>75</th>\n",
       "      <td>1650</td>\n",
       "      <td>B</td>\n",
       "    </tr>\n",
       "    <tr>\n",
       "      <th>148</th>\n",
       "      <td>1722</td>\n",
       "      <td>B</td>\n",
       "    </tr>\n",
       "    <tr>\n",
       "      <th>157</th>\n",
       "      <td>1729</td>\n",
       "      <td>B</td>\n",
       "    </tr>\n",
       "    <tr>\n",
       "      <th>...</th>\n",
       "      <td>...</td>\n",
       "      <td>...</td>\n",
       "    </tr>\n",
       "    <tr>\n",
       "      <th>4078270</th>\n",
       "      <td>3463</td>\n",
       "      <td>C</td>\n",
       "    </tr>\n",
       "    <tr>\n",
       "      <th>4078285</th>\n",
       "      <td>3443</td>\n",
       "      <td>C</td>\n",
       "    </tr>\n",
       "    <tr>\n",
       "      <th>4078290</th>\n",
       "      <td>3434</td>\n",
       "      <td>C</td>\n",
       "    </tr>\n",
       "    <tr>\n",
       "      <th>4078301</th>\n",
       "      <td>3421</td>\n",
       "      <td>C</td>\n",
       "    </tr>\n",
       "    <tr>\n",
       "      <th>4078308</th>\n",
       "      <td>3413</td>\n",
       "      <td>C</td>\n",
       "    </tr>\n",
       "  </tbody>\n",
       "</table>\n",
       "<p>123192 rows × 2 columns</p>\n",
       "</div>"
      ],
      "text/plain": [
       "         Airline_Flight_Number Cancellation_Code\n",
       "0                         1581                 A\n",
       "30                        1605                 B\n",
       "75                        1650                 B\n",
       "148                       1722                 B\n",
       "157                       1729                 B\n",
       "...                        ...               ...\n",
       "4078270                   3463                 C\n",
       "4078285                   3443                 C\n",
       "4078290                   3434                 C\n",
       "4078301                   3421                 C\n",
       "4078308                   3413                 C\n",
       "\n",
       "[123192 rows x 2 columns]"
      ]
     },
     "execution_count": 389,
     "metadata": {},
     "output_type": "execute_result"
    }
   ],
   "source": [
    "cancelled_cleanup_df"
   ]
  },
  {
   "cell_type": "code",
   "execution_count": null,
   "metadata": {},
   "outputs": [],
   "source": [
    "# Export cleaned Dataframe to csv to use as Table\n",
    "\n",
    "cancelled_flight_path = Path('Resources/DB_Cancelled_Flights_Table.csv')\n",
    "cancelled_cleanup_df.to_csv(cancelled_flight_path)"
   ]
  }
 ],
 "metadata": {
  "kernelspec": {
   "display_name": "Python 3 (ipykernel)",
   "language": "python",
   "name": "python3"
  },
  "language_info": {
   "codemirror_mode": {
    "name": "ipython",
    "version": 3
   },
   "file_extension": ".py",
   "mimetype": "text/x-python",
   "name": "python",
   "nbconvert_exporter": "python",
   "pygments_lexer": "ipython3",
   "version": "3.9.12"
  },
  "vscode": {
   "interpreter": {
    "hash": "8ccc1aa3ed519f7e799688496942c772fd7831c36144e9e99ceed2ce5e1092cf"
   }
  }
 },
 "nbformat": 4,
 "nbformat_minor": 2
}
