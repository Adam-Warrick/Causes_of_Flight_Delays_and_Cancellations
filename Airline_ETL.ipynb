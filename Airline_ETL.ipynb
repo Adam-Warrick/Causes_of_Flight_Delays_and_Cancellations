{
 "cells": [
  {
   "attachments": {},
   "cell_type": "markdown",
   "metadata": {},
   "source": [
    "### Import dependencies"
   ]
  },
  {
   "cell_type": "code",
   "execution_count": 1,
   "metadata": {},
   "outputs": [],
   "source": [
    "import pandas as pd\n",
    "from path import Path"
   ]
  },
  {
   "attachments": {},
   "cell_type": "markdown",
   "metadata": {},
   "source": [
    "### Import Airline data"
   ]
  },
  {
   "cell_type": "code",
   "execution_count": 2,
   "metadata": {},
   "outputs": [],
   "source": [
    "raw_2022_flights = pd.DataFrame()\n",
    "\n",
    "# loop through csv files \n",
    "for x in range(1,8):\n",
    "    file = Path(f'Resources/Flights_2022_{x}.csv')\n",
    "    import_df = pd.read_csv(file,low_memory=False)\n",
    "    raw_2022_flights = pd.concat([raw_2022_flights,import_df],ignore_index=True)"
   ]
  },
  {
   "attachments": {},
   "cell_type": "markdown",
   "metadata": {},
   "source": [
    "#### Export combined data into new csv"
   ]
  },
  {
   "cell_type": "code",
   "execution_count": 3,
   "metadata": {},
   "outputs": [],
   "source": [
    "export_path = Path('Resources/Flights_2022_Master.csv')\n",
    "raw_2022_flights.to_csv(export_path,index=False)"
   ]
  },
  {
   "attachments": {},
   "cell_type": "markdown",
   "metadata": {},
   "source": [
    "#### Re-Import master csv"
   ]
  },
  {
   "cell_type": "code",
   "execution_count": 4,
   "metadata": {},
   "outputs": [],
   "source": [
    "messy_import_path = Path('Resources/Flights_2022_Master.csv')\n",
    "messy_flight_df = pd.read_csv(messy_import_path,low_memory=False)"
   ]
  },
  {
   "attachments": {},
   "cell_type": "markdown",
   "metadata": {},
   "source": [
    "### Separate master dataframe into each table"
   ]
  },
  {
   "attachments": {},
   "cell_type": "markdown",
   "metadata": {},
   "source": [
    "#### Airlines DF"
   ]
  },
  {
   "cell_type": "code",
   "execution_count": 46,
   "metadata": {},
   "outputs": [],
   "source": [
    "airlines_df_path = Path('Resources/Airlines.csv')\n",
    "Airlines_df = pd.read_csv(airlines_df_path)"
   ]
  },
  {
   "attachments": {},
   "cell_type": "markdown",
   "metadata": {},
   "source": [
    "#### Flights DF"
   ]
  },
  {
   "cell_type": "code",
   "execution_count": 47,
   "metadata": {},
   "outputs": [],
   "source": [
    "flights_columns_list = [\n",
    "    'Flight_Number_Operating_Airline',\n",
    "    'Operating_Airline ',\n",
    "    'Origin',\n",
    "    'Dest',\n",
    "    'FlightDate',\n",
    "    'DepTime', # change from military to datetime\n",
    "    'ArrTime', # change from military to datetime \n",
    "    'ArrDel15',\n",
    "    'Cancelled'\n",
    "    ]"
   ]
  },
  {
   "cell_type": "code",
   "execution_count": 51,
   "metadata": {},
   "outputs": [],
   "source": [
    "flight_df_path = Path('Resources/Flights_Table.csv')\n",
    "Flights_df = messy_flight_df[flights_columns_list]\n",
    "Flights_df.to_csv(flight_df_path)"
   ]
  },
  {
   "attachments": {},
   "cell_type": "markdown",
   "metadata": {},
   "source": [
    "#### Delayed Flights DF"
   ]
  },
  {
   "cell_type": "code",
   "execution_count": 48,
   "metadata": {},
   "outputs": [],
   "source": [
    "delayed_columns_list = [\n",
    "    'Flight_Number_Operating_Airline',\n",
    "    'ArrTime',\n",
    "    'ArrDel15',\n",
    "    'DepTime', # change from military to datetime\n",
    "    'DepDel15',\n",
    "    'CarrierDelay',\n",
    "    'WeatherDelay',\n",
    "    'NASDelay',\n",
    "    'SecurityDelay',\n",
    "    'LateAircraftDelay'\n",
    "]"
   ]
  },
  {
   "cell_type": "code",
   "execution_count": 52,
   "metadata": {},
   "outputs": [],
   "source": [
    "delayed_df_path = Path('Resources/Delayed_Flights_Table.csv')\n",
    "Delayed_Flights_df = messy_flight_df[delayed_columns_list]\n",
    "Delayed_Flights_df.to_csv(delayed_df_path)"
   ]
  },
  {
   "attachments": {},
   "cell_type": "markdown",
   "metadata": {},
   "source": [
    "#### Airport Codes DF"
   ]
  },
  {
   "cell_type": "code",
   "execution_count": 49,
   "metadata": {},
   "outputs": [],
   "source": [
    "airport_codes_list = [\n",
    "    'Origin',\n",
    "    'OriginCityName',\n",
    "    'OriginState'\n",
    "]"
   ]
  },
  {
   "cell_type": "code",
   "execution_count": 53,
   "metadata": {},
   "outputs": [],
   "source": [
    "airport_codes_df_path = Path('Resources/Airport_Codes_Table.csv')\n",
    "Airport_Codes_df = messy_flight_df[airport_codes_list]\n",
    "Airport_Codes_df.to_csv(airport_codes_df_path)"
   ]
  },
  {
   "attachments": {},
   "cell_type": "markdown",
   "metadata": {},
   "source": [
    "#### Cancelled Flights DF"
   ]
  },
  {
   "cell_type": "code",
   "execution_count": 50,
   "metadata": {},
   "outputs": [],
   "source": [
    "cancelled_flights_list = [\n",
    "    'Flight_Number_Operating_Airline',\n",
    "    'CancellationCode'\n",
    "]"
   ]
  },
  {
   "cell_type": "code",
   "execution_count": 54,
   "metadata": {},
   "outputs": [],
   "source": [
    "cancelled_df_path = Path('Resources/Cancelled_Flights_Table.csv')\n",
    "Cancelled_Flights_df = messy_flight_df.loc[messy_flight_df['Cancelled']==1][cancelled_flights_list]\n",
    "Cancelled_Flights_df.to_csv(cancelled_df_path)"
   ]
  }
 ],
 "metadata": {
  "kernelspec": {
   "display_name": "mlenv",
   "language": "python",
   "name": "python3"
  },
  "language_info": {
   "codemirror_mode": {
    "name": "ipython",
    "version": 3
   },
   "file_extension": ".py",
   "mimetype": "text/x-python",
   "name": "python",
   "nbconvert_exporter": "python",
   "pygments_lexer": "ipython3",
   "version": "3.7.13"
  },
  "orig_nbformat": 4,
  "vscode": {
   "interpreter": {
    "hash": "8ccc1aa3ed519f7e799688496942c772fd7831c36144e9e99ceed2ce5e1092cf"
   }
  }
 },
 "nbformat": 4,
 "nbformat_minor": 2
}
